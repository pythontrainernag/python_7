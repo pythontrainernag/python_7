{
 "cells": [
  {
   "cell_type": "code",
   "execution_count": 2,
   "metadata": {},
   "outputs": [
    {
     "name": "stdout",
     "output_type": "stream",
     "text": [
      "3 6 9 12 15 18 21 24 27 30 33 36 39 42 45 48\n"
     ]
    }
   ],
   "source": [
    "a = 1\n",
    "while a <= 50:\n",
    "    if a%3 == 0:\n",
    "        print a,\n",
    "    a += 1"
   ]
  },
  {
   "cell_type": "code",
   "execution_count": 3,
   "metadata": {},
   "outputs": [
    {
     "name": "stdout",
     "output_type": "stream",
     "text": [
      "3 6 9 12 15 18 21 24 27 30 33 36 39 42 45 48\n"
     ]
    }
   ],
   "source": [
    "a = 3\n",
    "while a <= 50:\n",
    "    print a,\n",
    "    a += 3"
   ]
  },
  {
   "cell_type": "code",
   "execution_count": 4,
   "metadata": {},
   "outputs": [
    {
     "name": "stdout",
     "output_type": "stream",
     "text": [
      "3 6 9 12 15 18 21 24 27 30 33 36 39 42 45 48\n"
     ]
    }
   ],
   "source": [
    "a = 1\n",
    "while a <= 50:\n",
    "    if not a%3:\n",
    "        print a,\n",
    "    a += 1"
   ]
  },
  {
   "cell_type": "code",
   "execution_count": 6,
   "metadata": {},
   "outputs": [
    {
     "name": "stdout",
     "output_type": "stream",
     "text": [
      "Enter a number to verify prime 23\n",
      "You have entered prime\n"
     ]
    }
   ],
   "source": [
    "#prime number ----> divisible by itself and 1\n",
    "a = int(raw_input('Enter a number to verify prime '))\n",
    "count = 0\n",
    "i = 1\n",
    "while i <= a:\n",
    "    if not a%i:\n",
    "        count += 1\n",
    "    i += 1\n",
    "if count == 2:\n",
    "    print \"You have entered prime\"\n",
    "else:\n",
    "    print \"You have entered non prime\"\n"
   ]
  },
  {
   "cell_type": "code",
   "execution_count": 7,
   "metadata": {},
   "outputs": [
    {
     "name": "stdout",
     "output_type": "stream",
     "text": [
      "Enter a number to verify prime 50\n",
      "You have entered non prime\n"
     ]
    }
   ],
   "source": [
    "#prime number ----> divisible by itself and 1\n",
    "a = int(raw_input('Enter a number to verify prime '))\n",
    "count = 0\n",
    "i = 1\n",
    "while i <= a:\n",
    "    if not a%i:\n",
    "        count += 1\n",
    "    i += 1\n",
    "if count == 2:\n",
    "    print \"You have entered prime\"\n",
    "else:\n",
    "    print \"You have entered non prime\"\n"
   ]
  },
  {
   "cell_type": "code",
   "execution_count": 9,
   "metadata": {},
   "outputs": [
    {
     "name": "stdout",
     "output_type": "stream",
     "text": [
      "Enter a number to verify prime 15\n",
      "You have entered non prime\n",
      "2\n"
     ]
    }
   ],
   "source": [
    "#prime number ----> divisible by itself and 1\n",
    "a = int(raw_input('Enter a number to verify prime '))\n",
    "count = 0\n",
    "i = 2\n",
    "while i < a:\n",
    "    if not a%i:\n",
    "        count += 1\n",
    "    i += 1\n",
    "if count == 0:\n",
    "    print \"You have entered prime\"\n",
    "else:\n",
    "    print \"You have entered non prime\"\n",
    "print count\n"
   ]
  },
  {
   "cell_type": "code",
   "execution_count": 10,
   "metadata": {},
   "outputs": [
    {
     "name": "stdout",
     "output_type": "stream",
     "text": [
      "Enter a number to verify prime 50\n",
      "You have entered non prime\n",
      "4\n"
     ]
    }
   ],
   "source": [
    "#prime number ----> divisible by itself and 1\n",
    "a = int(raw_input('Enter a number to verify prime '))\n",
    "count = 0\n",
    "i = 2\n",
    "while i < a:\n",
    "    if not a%i:\n",
    "        count += 1\n",
    "    i += 1\n",
    "if count == 0:\n",
    "    print \"You have entered prime\"\n",
    "else:\n",
    "    print \"You have entered non prime\"\n",
    "print count\n"
   ]
  },
  {
   "cell_type": "code",
   "execution_count": 11,
   "metadata": {},
   "outputs": [
    {
     "name": "stdout",
     "output_type": "stream",
     "text": [
      "Enter a number to verify prime 47\n",
      "You have entered prime\n",
      "0\n"
     ]
    }
   ],
   "source": [
    "#prime number ----> divisible by itself and 1\n",
    "a = int(raw_input('Enter a number to verify prime '))\n",
    "count = 0\n",
    "i = 2\n",
    "while i < a:\n",
    "    if not a%i:\n",
    "        count += 1\n",
    "    i += 1\n",
    "if count == 0:\n",
    "    print \"You have entered prime\"\n",
    "else:\n",
    "    print \"You have entered non prime\"\n",
    "print count\n"
   ]
  },
  {
   "cell_type": "code",
   "execution_count": 12,
   "metadata": {},
   "outputs": [],
   "source": [
    "#break\n",
    "#When code the executes the break inside the loop, it immediately comes out of the loop"
   ]
  },
  {
   "cell_type": "code",
   "execution_count": 13,
   "metadata": {},
   "outputs": [
    {
     "name": "stdout",
     "output_type": "stream",
     "text": [
      "10 11 12 13 14\n"
     ]
    }
   ],
   "source": [
    "a = 10\n",
    "while a < 50:\n",
    "    if a == 15:\n",
    "        break\n",
    "    print a,\n",
    "    a += 1"
   ]
  },
  {
   "cell_type": "code",
   "execution_count": 14,
   "metadata": {},
   "outputs": [],
   "source": [
    "a = 10\n",
    "while a < 50:\n",
    "    break\n",
    "    print a,\n",
    "    a += 1"
   ]
  },
  {
   "cell_type": "code",
   "execution_count": 15,
   "metadata": {},
   "outputs": [
    {
     "name": "stdout",
     "output_type": "stream",
     "text": [
      "10\n"
     ]
    }
   ],
   "source": [
    "a = 10\n",
    "while a < 50:\n",
    "    print a,\n",
    "    a += 1\n",
    "    break"
   ]
  },
  {
   "cell_type": "code",
   "execution_count": 16,
   "metadata": {},
   "outputs": [
    {
     "name": "stdout",
     "output_type": "stream",
     "text": [
      "11\n"
     ]
    }
   ],
   "source": [
    "print a"
   ]
  },
  {
   "cell_type": "code",
   "execution_count": 17,
   "metadata": {},
   "outputs": [
    {
     "name": "stdout",
     "output_type": "stream",
     "text": [
      "enter a number less than 1523\n",
      "23 25 27 29 31 33 35 37 39 41 43 45 47 49\n"
     ]
    }
   ],
   "source": [
    "a = int(raw_input('enter a number less than 15'))\n",
    "while a < 50:\n",
    "    if a == 15:\n",
    "        break\n",
    "    print a,\n",
    "    a += 2"
   ]
  },
  {
   "cell_type": "markdown",
   "metadata": {},
   "source": [
    "a = int(raw_input('enter a number less than 15'))\n",
    "while a < 50:\n",
    "    if a == 15:\n",
    "        break\n",
    "    print a,\n",
    "    a += 2"
   ]
  },
  {
   "cell_type": "code",
   "execution_count": 18,
   "metadata": {},
   "outputs": [
    {
     "name": "stdout",
     "output_type": "stream",
     "text": [
      "enter a number less than 1512\n",
      "12 14 16 18 20 22 24 26 28 30 32 34 36 38 40 42 44 46 48\n"
     ]
    }
   ],
   "source": [
    "a = int(raw_input('enter a number less than 15'))\n",
    "while a < 50:\n",
    "    if a == 15:\n",
    "        break\n",
    "    print a,\n",
    "    a += 2"
   ]
  },
  {
   "cell_type": "code",
   "execution_count": 19,
   "metadata": {},
   "outputs": [
    {
     "name": "stdout",
     "output_type": "stream",
     "text": [
      "enter a number less than 1511\n",
      "11 13\n"
     ]
    }
   ],
   "source": [
    "a = int(raw_input('enter a number less than 15'))\n",
    "while a < 50:\n",
    "    if a == 15:\n",
    "        break\n",
    "    print a,\n",
    "    a += 2"
   ]
  },
  {
   "cell_type": "code",
   "execution_count": 20,
   "metadata": {},
   "outputs": [
    {
     "name": "stdout",
     "output_type": "stream",
     "text": [
      "Enter a number to verify prime 15\n",
      "You have entered non prime\n"
     ]
    }
   ],
   "source": [
    "#prime number ----> divisible by itself and 1\n",
    "a = int(raw_input('Enter a number to verify prime '))\n",
    "isprime = True\n",
    "i = 2\n",
    "while i < a:\n",
    "    if not a%i:\n",
    "        isprime = False\n",
    "        break\n",
    "    i += 1\n",
    "if isprime:\n",
    "    print \"You have entered prime\"\n",
    "else:\n",
    "    print \"You have entered non prime\"\n"
   ]
  },
  {
   "cell_type": "code",
   "execution_count": null,
   "metadata": {},
   "outputs": [],
   "source": []
  },
  {
   "cell_type": "code",
   "execution_count": 21,
   "metadata": {},
   "outputs": [
    {
     "name": "stdout",
     "output_type": "stream",
     "text": [
      "Enter a number to verify prime 23\n",
      "You have entered prime\n"
     ]
    }
   ],
   "source": [
    "#prime number ----> divisible by itself and 1\n",
    "a = int(raw_input('Enter a number to verify prime '))\n",
    "isprime = True\n",
    "i = 2\n",
    "while i < a:\n",
    "    if not a%i:\n",
    "        isprime = False\n",
    "        break\n",
    "    i += 1\n",
    "if isprime:\n",
    "    print \"You have entered prime\"\n",
    "else:\n",
    "    print \"You have entered non prime\"\n"
   ]
  },
  {
   "cell_type": "code",
   "execution_count": null,
   "metadata": {},
   "outputs": [],
   "source": []
  }
 ],
 "metadata": {
  "kernelspec": {
   "display_name": "Python 2",
   "language": "python",
   "name": "python2"
  },
  "language_info": {
   "codemirror_mode": {
    "name": "ipython",
    "version": 2
   },
   "file_extension": ".py",
   "mimetype": "text/x-python",
   "name": "python",
   "nbconvert_exporter": "python",
   "pygments_lexer": "ipython2",
   "version": "2.7.15"
  }
 },
 "nbformat": 4,
 "nbformat_minor": 2
}
