{
 "cells": [
  {
   "cell_type": "code",
   "execution_count": 1,
   "metadata": {},
   "outputs": [],
   "source": [
    "#object oriented programming\n",
    "#based on object we will be developing our code\n",
    "#anything which occupies some space in atmosphere is nothing but an object. It should have behaviour\n",
    "#Pen is also object\n",
    "#table, car, bike \n",
    "#sometimes object may be logical objects like Bank Account etc.\n",
    "#object? class?\n",
    "#object which occupies some space.\n",
    "#every object has attributes and actions/behaviour\n",
    "#Pen ---> ink, cal model, color etc.\n",
    "#car ---> color, No. of doors, No. of seats, length and height of car\n",
    "#Bank Account ----> Balance, Unique ID, branch, IFSC code, Name\n",
    "#When you perform action, it changes some of its attributes\n",
    "#Pen ---> writing\n",
    "#car ---->\n",
    "#account ----> deposit, withdrawl etc.\n"
   ]
  },
  {
   "cell_type": "code",
   "execution_count": 3,
   "metadata": {},
   "outputs": [],
   "source": [
    "#class ---> representation of object\n",
    "#attributes  -----> variables, actions -----> method/function\n",
    "#instance??\n",
    "#class <className>([parent class]):\n",
    "#      attrbutes\n",
    "#      methods\n",
    "class Pen():\n",
    "    color = 'white'\n",
    "    ink_level = 100\n",
    "    ink_color = 'blue'\n",
    "    def write(self, write_time):\n",
    "        if write_time is 1:\n",
    "            self.ink_level -= 50\n",
    "        if self.ink_level is 0:\n",
    "            self.change_reffle(100, 'blue')\n",
    "    def change_reffle(self, ink_level, ink_color):\n",
    "        self.ink_level = ink_level\n",
    "        self.ink_color = ink_color"
   ]
  },
  {
   "cell_type": "code",
   "execution_count": 4,
   "metadata": {},
   "outputs": [],
   "source": [
    "p1 = Pen()\n",
    "p2 = Pen()"
   ]
  },
  {
   "cell_type": "code",
   "execution_count": 5,
   "metadata": {},
   "outputs": [
    {
     "name": "stdout",
     "output_type": "stream",
     "text": [
      "<__main__.Pen instance at 0x0000000006A57248>\n"
     ]
    }
   ],
   "source": [
    "print p1"
   ]
  },
  {
   "cell_type": "code",
   "execution_count": 6,
   "metadata": {},
   "outputs": [
    {
     "name": "stdout",
     "output_type": "stream",
     "text": [
      "<__main__.Pen instance at 0x0000000006A57408>\n"
     ]
    }
   ],
   "source": [
    "print p2"
   ]
  },
  {
   "cell_type": "code",
   "execution_count": null,
   "metadata": {},
   "outputs": [],
   "source": []
  }
 ],
 "metadata": {
  "kernelspec": {
   "display_name": "Python 2",
   "language": "python",
   "name": "python2"
  },
  "language_info": {
   "codemirror_mode": {
    "name": "ipython",
    "version": 2
   },
   "file_extension": ".py",
   "mimetype": "text/x-python",
   "name": "python",
   "nbconvert_exporter": "python",
   "pygments_lexer": "ipython2",
   "version": "2.7.15"
  }
 },
 "nbformat": 4,
 "nbformat_minor": 2
}
