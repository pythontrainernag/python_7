{
 "cells": [
  {
   "cell_type": "code",
   "execution_count": 1,
   "metadata": {},
   "outputs": [],
   "source": [
    "#a set of related statements which can be executed separately.\n",
    "#Whenever you want to execute, then you will be calling the function\n",
    "#def functionName([arguments]):\n",
    "#  st1\n",
    "#  st2\n",
    "#  |\n",
    "#  |\n",
    "#  stn\n",
    "#  [return]\n"
   ]
  },
  {
   "cell_type": "code",
   "execution_count": 2,
   "metadata": {},
   "outputs": [
    {
     "name": "stdout",
     "output_type": "stream",
     "text": [
      "30\n",
      "-10\n"
     ]
    }
   ],
   "source": [
    "def myfun():\n",
    "    a = 10\n",
    "    b = 20\n",
    "    print a+b\n",
    "    print a-b\n",
    "\n",
    "myfun()"
   ]
  },
  {
   "cell_type": "code",
   "execution_count": 3,
   "metadata": {},
   "outputs": [
    {
     "name": "stdout",
     "output_type": "stream",
     "text": [
      "30\n",
      "-10\n"
     ]
    }
   ],
   "source": [
    "myfun()"
   ]
  },
  {
   "cell_type": "code",
   "execution_count": 4,
   "metadata": {},
   "outputs": [
    {
     "name": "stdout",
     "output_type": "stream",
     "text": [
      "30\n",
      "-10\n"
     ]
    }
   ],
   "source": [
    "myfun()"
   ]
  },
  {
   "cell_type": "code",
   "execution_count": 5,
   "metadata": {},
   "outputs": [
    {
     "name": "stdout",
     "output_type": "stream",
     "text": [
      "<function myfun at 0x0000000006D82F98>\n"
     ]
    }
   ],
   "source": [
    "print myfun"
   ]
  },
  {
   "cell_type": "code",
   "execution_count": 6,
   "metadata": {},
   "outputs": [
    {
     "name": "stdout",
     "output_type": "stream",
     "text": [
      "<function myfun at 0x0000000006D82F98>\n"
     ]
    }
   ],
   "source": [
    "c = myfun\n",
    "print c"
   ]
  },
  {
   "cell_type": "code",
   "execution_count": 8,
   "metadata": {},
   "outputs": [
    {
     "name": "stdout",
     "output_type": "stream",
     "text": [
      "30\n",
      "-10\n"
     ]
    }
   ],
   "source": [
    "c()"
   ]
  },
  {
   "cell_type": "code",
   "execution_count": 9,
   "metadata": {},
   "outputs": [],
   "source": [
    "#global variables\n",
    "#argumental variables\n",
    "#local variables\n",
    "#non-local variables\n",
    "#main program variables"
   ]
  },
  {
   "cell_type": "code",
   "execution_count": 12,
   "metadata": {},
   "outputs": [
    {
     "name": "stdout",
     "output_type": "stream",
     "text": [
      "100\n",
      "200\n",
      "20\n",
      "5\n",
      "15\n"
     ]
    }
   ],
   "source": [
    "a = 5\n",
    "b = 10\n",
    "def myfun1(c, d):\n",
    "    global b\n",
    "    b = 15\n",
    "    print c\n",
    "    print d\n",
    "    a = 20\n",
    "    print a\n",
    "myfun1(100, 200)\n",
    "print a\n",
    "print b"
   ]
  },
  {
   "cell_type": "code",
   "execution_count": 13,
   "metadata": {},
   "outputs": [
    {
     "name": "stdout",
     "output_type": "stream",
     "text": [
      "[4, 5, 6]\n",
      "50\n",
      "[4, 5, 6, 10]\n"
     ]
    }
   ],
   "source": [
    "a = [4, 5, 6]\n",
    "def myfun(b, c):\n",
    "    print b\n",
    "    print c\n",
    "    b.append(10)\n",
    "myfun(a, 50)\n",
    "print a"
   ]
  },
  {
   "cell_type": "code",
   "execution_count": 15,
   "metadata": {},
   "outputs": [
    {
     "name": "stdout",
     "output_type": "stream",
     "text": [
      "[4, 5, 6]\n",
      "[4, 5, 6, 10]\n"
     ]
    }
   ],
   "source": [
    "a = [4, 5, 6]\n",
    "def myfun(a):\n",
    "    print a\n",
    "    a.append(10)\n",
    "myfun(a)\n",
    "print a"
   ]
  },
  {
   "cell_type": "code",
   "execution_count": 16,
   "metadata": {},
   "outputs": [
    {
     "name": "stdout",
     "output_type": "stream",
     "text": [
      "[4, 5, 6]\n",
      "[8, 9, 100]\n",
      "[4, 5, 6, 10]\n"
     ]
    }
   ],
   "source": [
    "a = [4, 5, 6]\n",
    "def myfun(b):\n",
    "    print b\n",
    "    b.append(10)\n",
    "    b = [8,9]\n",
    "    b.append(100)\n",
    "    print b\n",
    "myfun(a)\n",
    "print a"
   ]
  },
  {
   "cell_type": "code",
   "execution_count": 17,
   "metadata": {},
   "outputs": [
    {
     "name": "stdout",
     "output_type": "stream",
     "text": [
      "[4, 5, 6]\n",
      "[8, 9, 100]\n",
      "[4, 5, 6, 10]\n"
     ]
    }
   ],
   "source": [
    "a = [4, 5, 6]\n",
    "def myfun(a):\n",
    "    print a\n",
    "    a.append(10)\n",
    "    a = [8,9]\n",
    "    a.append(100)\n",
    "    print a\n",
    "myfun(a)\n",
    "print a"
   ]
  },
  {
   "cell_type": "code",
   "execution_count": 18,
   "metadata": {},
   "outputs": [
    {
     "ename": "SyntaxError",
     "evalue": "name 'a' is local and global (<ipython-input-18-b95df97a8150>, line 2)",
     "output_type": "error",
     "traceback": [
      "\u001b[1;36m  File \u001b[1;32m\"<ipython-input-18-b95df97a8150>\"\u001b[1;36m, line \u001b[1;32m2\u001b[0m\n\u001b[1;33m    def myfun(a):\u001b[0m\n\u001b[1;31mSyntaxError\u001b[0m\u001b[1;31m:\u001b[0m name 'a' is local and global\n"
     ]
    }
   ],
   "source": [
    "a = 5\n",
    "def myfun(a):\n",
    "    global a\n",
    "    a = 10\n",
    "    print a\n",
    "myfun(a)\n",
    "print a"
   ]
  },
  {
   "cell_type": "code",
   "execution_count": 19,
   "metadata": {},
   "outputs": [
    {
     "name": "stdout",
     "output_type": "stream",
     "text": [
      "10\n",
      "10\n"
     ]
    }
   ],
   "source": [
    "a = 5\n",
    "def myfun(b):\n",
    "    global a\n",
    "    a = 10\n",
    "    print a\n",
    "myfun(a)\n",
    "print a"
   ]
  },
  {
   "cell_type": "code",
   "execution_count": 20,
   "metadata": {},
   "outputs": [
    {
     "name": "stdout",
     "output_type": "stream",
     "text": [
      "10\n",
      "10\n"
     ]
    },
    {
     "name": "stderr",
     "output_type": "stream",
     "text": [
      "<ipython-input-20-de62f42598a9>:4: SyntaxWarning: name 'a' is assigned to before global declaration\n",
      "  global a\n"
     ]
    }
   ],
   "source": [
    "a = 5\n",
    "def myfun(b):\n",
    "    a = 15\n",
    "    global a\n",
    "    a = 10\n",
    "    print a\n",
    "myfun(a)\n",
    "print a"
   ]
  },
  {
   "cell_type": "code",
   "execution_count": 21,
   "metadata": {},
   "outputs": [
    {
     "name": "stdout",
     "output_type": "stream",
     "text": [
      "15\n",
      "15\n"
     ]
    }
   ],
   "source": [
    "a = 5\n",
    "def myfun(b):\n",
    "    global a\n",
    "    a = 15\n",
    "    print a\n",
    "myfun(a)\n",
    "print a"
   ]
  },
  {
   "cell_type": "code",
   "execution_count": 22,
   "metadata": {},
   "outputs": [
    {
     "name": "stdout",
     "output_type": "stream",
     "text": [
      "[100, 200]\n"
     ]
    }
   ],
   "source": [
    "a = [4,5,6]\n",
    "def myfun(b):\n",
    "    b.append(10)\n",
    "    global a\n",
    "    a = [100, 200]\n",
    "myfun(a)\n",
    "print a"
   ]
  },
  {
   "cell_type": "code",
   "execution_count": 23,
   "metadata": {},
   "outputs": [
    {
     "name": "stdout",
     "output_type": "stream",
     "text": [
      "10\n"
     ]
    }
   ],
   "source": [
    "def myfun():\n",
    "    x = 10\n",
    "    return x\n",
    "c = myfun()\n",
    "print c\n"
   ]
  },
  {
   "cell_type": "code",
   "execution_count": 24,
   "metadata": {},
   "outputs": [
    {
     "ename": "NameError",
     "evalue": "name 'x' is not defined",
     "output_type": "error",
     "traceback": [
      "\u001b[1;31m---------------------------------------------------------------------------\u001b[0m",
      "\u001b[1;31mNameError\u001b[0m                                 Traceback (most recent call last)",
      "\u001b[1;32m<ipython-input-24-0b640320f694>\u001b[0m in \u001b[0;36m<module>\u001b[1;34m()\u001b[0m\n\u001b[1;32m----> 1\u001b[1;33m \u001b[1;32mprint\u001b[0m \u001b[0mx\u001b[0m\u001b[1;33m\u001b[0m\u001b[0m\n\u001b[0m",
      "\u001b[1;31mNameError\u001b[0m: name 'x' is not defined"
     ]
    }
   ],
   "source": [
    "print x"
   ]
  },
  {
   "cell_type": "code",
   "execution_count": 25,
   "metadata": {},
   "outputs": [
    {
     "name": "stdout",
     "output_type": "stream",
     "text": [
      "(13, 7, 30)\n",
      "10\n",
      "2\n",
      "24\n"
     ]
    }
   ],
   "source": [
    "def addi(a,b):\n",
    "    return a+b,a-b,a*b\n",
    "c = addi(10,3)\n",
    "a,e,f = addi(6,4)\n",
    "x,y,z = c\n",
    "print c\n",
    "print a\n",
    "print e\n",
    "print f"
   ]
  },
  {
   "cell_type": "code",
   "execution_count": 26,
   "metadata": {},
   "outputs": [],
   "source": [
    "#types of arguments\n",
    "#mandatory arguments\n",
    "#default arguments\n",
    "#variable length arguments\n",
    "#variable length keyword arguments"
   ]
  },
  {
   "cell_type": "code",
   "execution_count": 27,
   "metadata": {},
   "outputs": [
    {
     "ename": "SyntaxError",
     "evalue": "invalid syntax (<ipython-input-27-803281ae10a0>, line 1)",
     "output_type": "error",
     "traceback": [
      "\u001b[1;36m  File \u001b[1;32m\"<ipython-input-27-803281ae10a0>\"\u001b[1;36m, line \u001b[1;32m1\u001b[0m\n\u001b[1;33m    def my@fun(a,b):\u001b[0m\n\u001b[1;37m          ^\u001b[0m\n\u001b[1;31mSyntaxError\u001b[0m\u001b[1;31m:\u001b[0m invalid syntax\n"
     ]
    }
   ],
   "source": [
    "def my@fun(a,b):\n",
    "    return a,b\n",
    "print my@fun(2,3)"
   ]
  },
  {
   "cell_type": "code",
   "execution_count": 28,
   "metadata": {},
   "outputs": [
    {
     "ename": "TypeError",
     "evalue": "myfun() takes at least 1 argument (0 given)",
     "output_type": "error",
     "traceback": [
      "\u001b[1;31m---------------------------------------------------------------------------\u001b[0m",
      "\u001b[1;31mTypeError\u001b[0m                                 Traceback (most recent call last)",
      "\u001b[1;32m<ipython-input-28-eb3b631168c2>\u001b[0m in \u001b[0;36m<module>\u001b[1;34m()\u001b[0m\n\u001b[0;32m      2\u001b[0m     \u001b[1;32mprint\u001b[0m \u001b[0ma\u001b[0m\u001b[1;33m\u001b[0m\u001b[0m\n\u001b[0;32m      3\u001b[0m     \u001b[1;32mprint\u001b[0m \u001b[0mb\u001b[0m\u001b[1;33m\u001b[0m\u001b[0m\n\u001b[1;32m----> 4\u001b[1;33m \u001b[0mmyfun\u001b[0m\u001b[1;33m(\u001b[0m\u001b[1;33m)\u001b[0m\u001b[1;33m\u001b[0m\u001b[0m\n\u001b[0m",
      "\u001b[1;31mTypeError\u001b[0m: myfun() takes at least 1 argument (0 given)"
     ]
    }
   ],
   "source": [
    "def myfun(a, b = 10):\n",
    "    print a\n",
    "    print b\n",
    "myfun()"
   ]
  },
  {
   "cell_type": "code",
   "execution_count": 29,
   "metadata": {},
   "outputs": [
    {
     "name": "stdout",
     "output_type": "stream",
     "text": [
      "5\n",
      "10\n"
     ]
    }
   ],
   "source": [
    "def myfun(a, b = 10):\n",
    "    print a\n",
    "    print b\n",
    "myfun(5)"
   ]
  },
  {
   "cell_type": "code",
   "execution_count": 30,
   "metadata": {},
   "outputs": [
    {
     "name": "stdout",
     "output_type": "stream",
     "text": [
      "5\n",
      "15\n"
     ]
    }
   ],
   "source": [
    "def myfun(a, b = 10):\n",
    "    print a\n",
    "    print b\n",
    "myfun(5, 15)"
   ]
  },
  {
   "cell_type": "code",
   "execution_count": 31,
   "metadata": {},
   "outputs": [
    {
     "ename": "TypeError",
     "evalue": "myfun() takes at most 2 arguments (3 given)",
     "output_type": "error",
     "traceback": [
      "\u001b[1;31m---------------------------------------------------------------------------\u001b[0m",
      "\u001b[1;31mTypeError\u001b[0m                                 Traceback (most recent call last)",
      "\u001b[1;32m<ipython-input-31-6922e7b70cd4>\u001b[0m in \u001b[0;36m<module>\u001b[1;34m()\u001b[0m\n\u001b[0;32m      2\u001b[0m     \u001b[1;32mprint\u001b[0m \u001b[0ma\u001b[0m\u001b[1;33m\u001b[0m\u001b[0m\n\u001b[0;32m      3\u001b[0m     \u001b[1;32mprint\u001b[0m \u001b[0mb\u001b[0m\u001b[1;33m\u001b[0m\u001b[0m\n\u001b[1;32m----> 4\u001b[1;33m \u001b[0mmyfun\u001b[0m\u001b[1;33m(\u001b[0m\u001b[1;36m5\u001b[0m\u001b[1;33m,\u001b[0m \u001b[1;36m15\u001b[0m\u001b[1;33m,\u001b[0m \u001b[1;36m20\u001b[0m\u001b[1;33m)\u001b[0m\u001b[1;33m\u001b[0m\u001b[0m\n\u001b[0m",
      "\u001b[1;31mTypeError\u001b[0m: myfun() takes at most 2 arguments (3 given)"
     ]
    }
   ],
   "source": [
    "def myfun(a, b = 10):\n",
    "    print a\n",
    "    print b\n",
    "myfun(5, 15, 20)"
   ]
  },
  {
   "cell_type": "code",
   "execution_count": 32,
   "metadata": {},
   "outputs": [
    {
     "ename": "SyntaxError",
     "evalue": "non-default argument follows default argument (<ipython-input-32-e731763e2494>, line 1)",
     "output_type": "error",
     "traceback": [
      "\u001b[1;36m  File \u001b[1;32m\"<ipython-input-32-e731763e2494>\"\u001b[1;36m, line \u001b[1;32m1\u001b[0m\n\u001b[1;33m    def myfun(b = 10, a):\u001b[0m\n\u001b[1;31mSyntaxError\u001b[0m\u001b[1;31m:\u001b[0m non-default argument follows default argument\n"
     ]
    }
   ],
   "source": [
    "def myfun(b = 10, a):\n",
    "    print a\n",
    "    print b\n",
    "myfun(5, 15)"
   ]
  },
  {
   "cell_type": "code",
   "execution_count": 34,
   "metadata": {},
   "outputs": [
    {
     "name": "stdout",
     "output_type": "stream",
     "text": [
      "5\n",
      "15\n",
      "(20, 30, 40, 50, 'python', 'automation')\n"
     ]
    }
   ],
   "source": [
    "def myfun(a, b = 10, *c):\n",
    "    print a\n",
    "    print b\n",
    "    print c\n",
    "myfun(5, 15, 20, 30, 40, 50, 'python', 'automation')"
   ]
  },
  {
   "cell_type": "code",
   "execution_count": 37,
   "metadata": {},
   "outputs": [
    {
     "name": "stdout",
     "output_type": "stream",
     "text": [
      "20\n",
      "15\n"
     ]
    }
   ],
   "source": [
    "def myfun(a, b = 10):\n",
    "    print a\n",
    "    print b\n",
    "myfun(b=15, a=20)"
   ]
  },
  {
   "cell_type": "code",
   "execution_count": 39,
   "metadata": {},
   "outputs": [
    {
     "name": "stdout",
     "output_type": "stream",
     "text": [
      "5\n",
      "15\n",
      "(20, 30, 40, 50, 'python', 'automation')\n",
      "{'i': 100, 'x': 20, 'z': 200}\n"
     ]
    }
   ],
   "source": [
    "def myfun(a, b = 10, *c, **d):\n",
    "    print a\n",
    "    print b\n",
    "    print c\n",
    "    print d\n",
    "myfun(5, 15, 20, 30, 40, 50, 'python', 'automation', x=20, i=100,z=200)"
   ]
  },
  {
   "cell_type": "code",
   "execution_count": 41,
   "metadata": {},
   "outputs": [
    {
     "ename": "SyntaxError",
     "evalue": "keyword can't be an expression (<ipython-input-41-89cc6ef26f85>, line 6)",
     "output_type": "error",
     "traceback": [
      "\u001b[1;36m  File \u001b[1;32m\"<ipython-input-41-89cc6ef26f85>\"\u001b[1;36m, line \u001b[1;32m6\u001b[0m\n\u001b[1;33m    myfun(5, 15, 20, 30, 40, 50, 'python', 'automation', (1,2)=20, i=100,z=200)\u001b[0m\n\u001b[1;31mSyntaxError\u001b[0m\u001b[1;31m:\u001b[0m keyword can't be an expression\n"
     ]
    }
   ],
   "source": [
    "def myfun(a, b = 10, *c, **d):\n",
    "    print a\n",
    "    print b\n",
    "    print c\n",
    "    print d\n",
    "myfun(5, 15, 20, 30, 40, 50, 'python', 'automation', (1,2)=20, i=100,z=200)"
   ]
  },
  {
   "cell_type": "code",
   "execution_count": 42,
   "metadata": {},
   "outputs": [
    {
     "name": "stdout",
     "output_type": "stream",
     "text": [
      "5\n",
      "10\n"
     ]
    }
   ],
   "source": [
    "def myfun(a,b):\n",
    "    print a\n",
    "    print b\n",
    "d = {'a':5, 'b':10}\n",
    "myfun(**d)"
   ]
  },
  {
   "cell_type": "code",
   "execution_count": 43,
   "metadata": {},
   "outputs": [
    {
     "ename": "SyntaxError",
     "evalue": "invalid syntax (<ipython-input-43-d16f341d140e>, line 1)",
     "output_type": "error",
     "traceback": [
      "\u001b[1;36m  File \u001b[1;32m\"<ipython-input-43-d16f341d140e>\"\u001b[1;36m, line \u001b[1;32m1\u001b[0m\n\u001b[1;33m    print **d\u001b[0m\n\u001b[1;37m           ^\u001b[0m\n\u001b[1;31mSyntaxError\u001b[0m\u001b[1;31m:\u001b[0m invalid syntax\n"
     ]
    }
   ],
   "source": [
    "print **d"
   ]
  },
  {
   "cell_type": "code",
   "execution_count": 1,
   "metadata": {},
   "outputs": [
    {
     "name": "stdout",
     "output_type": "stream",
     "text": [
      "28\n"
     ]
    }
   ],
   "source": [
    "def myfun(a, b):\n",
    "    c = a+b\n",
    "    return c\n",
    "    d = a-b\n",
    "    return d\n",
    "print myfun(10, 18)"
   ]
  },
  {
   "cell_type": "code",
   "execution_count": 2,
   "metadata": {},
   "outputs": [
    {
     "name": "stdout",
     "output_type": "stream",
     "text": [
      "b is greater\n"
     ]
    }
   ],
   "source": [
    "def myfun(a,b,c):\n",
    "    if a>b and a>c:\n",
    "        return \"a is greater\"\n",
    "    if b>c:\n",
    "        return \"b is greater\"\n",
    "    return \"c is greater\"\n",
    "print myfun(10, 15, 11)"
   ]
  },
  {
   "cell_type": "code",
   "execution_count": null,
   "metadata": {},
   "outputs": [],
   "source": [
    "#write a function to find whether a given number is prime or not\n",
    "#Using the above function print the list which contains prime number between 500 and 1000\n",
    "\n",
    "#write a function a function with a single argument. Where argument is always a tuple of 3 elements\n",
    "\n",
    "# write a function which takes as many as arguments where each argument is a string\n",
    "# If any argument is not a string then it should return -1 otherwise return count the unique elements/characters from combination of all arguments"
   ]
  }
 ],
 "metadata": {
  "kernelspec": {
   "display_name": "Python 2",
   "language": "python",
   "name": "python2"
  },
  "language_info": {
   "codemirror_mode": {
    "name": "ipython",
    "version": 2
   },
   "file_extension": ".py",
   "mimetype": "text/x-python",
   "name": "python",
   "nbconvert_exporter": "python",
   "pygments_lexer": "ipython2",
   "version": "2.7.15"
  }
 },
 "nbformat": 4,
 "nbformat_minor": 2
}
