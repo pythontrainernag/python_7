{
 "cells": [
  {
   "cell_type": "code",
   "execution_count": 4,
   "metadata": {},
   "outputs": [],
   "source": [
    "#class variables\n",
    "#instance variables\n",
    "class Myclass():\n",
    "    a = 10\n",
    "    b = 20\n",
    "    def __init__(self):\n",
    "        self.c = 30\n",
    "        self.d = 40\n",
    "o1 = Myclass()\n",
    "o2 = Myclass()"
   ]
  },
  {
   "cell_type": "code",
   "execution_count": 5,
   "metadata": {},
   "outputs": [
    {
     "name": "stdout",
     "output_type": "stream",
     "text": [
      "<__main__.Myclass instance at 0x0000000006960088>\n",
      "<__main__.Myclass instance at 0x0000000006960188>\n"
     ]
    }
   ],
   "source": [
    "print o1\n",
    "print o2"
   ]
  },
  {
   "cell_type": "code",
   "execution_count": 3,
   "metadata": {},
   "outputs": [
    {
     "name": "stdout",
     "output_type": "stream",
     "text": [
      "__main__.Myclass\n"
     ]
    }
   ],
   "source": [
    "print Myclass"
   ]
  },
  {
   "cell_type": "code",
   "execution_count": 6,
   "metadata": {},
   "outputs": [
    {
     "name": "stdout",
     "output_type": "stream",
     "text": [
      "10 20 30 40\n",
      "10 20 30 40\n"
     ]
    }
   ],
   "source": [
    "print o1.a, o1.b, o1.c, o1.d\n",
    "print o2.a, o2.b, o2.c, o2.d"
   ]
  },
  {
   "cell_type": "code",
   "execution_count": 7,
   "metadata": {},
   "outputs": [
    {
     "name": "stdout",
     "output_type": "stream",
     "text": [
      "10 20 100 40\n",
      "10 20 30 40\n"
     ]
    }
   ],
   "source": [
    "o1.c = 100\n",
    "print o1.a, o1.b, o1.c, o1.d\n",
    "print o2.a, o2.b, o2.c, o2.d"
   ]
  },
  {
   "cell_type": "code",
   "execution_count": 8,
   "metadata": {},
   "outputs": [
    {
     "name": "stdout",
     "output_type": "stream",
     "text": [
      "200 20 100 40\n",
      "200 20 30 40\n"
     ]
    }
   ],
   "source": [
    "Myclass.a = 200\n",
    "print o1.a, o1.b, o1.c, o1.d\n",
    "print o2.a, o2.b, o2.c, o2.d"
   ]
  },
  {
   "cell_type": "code",
   "execution_count": 9,
   "metadata": {},
   "outputs": [
    {
     "name": "stdout",
     "output_type": "stream",
     "text": [
      "10 20 40 30\n",
      "10 20 70 60\n"
     ]
    }
   ],
   "source": [
    "class Myclass():\n",
    "    a = 10\n",
    "    b = 20\n",
    "    def __init__(self, c, d):\n",
    "        self.c = d\n",
    "        self.d = c\n",
    "o1 = Myclass(30, 40)\n",
    "o2 = Myclass(60, 70)\n",
    "print o1.a, o1.b, o1.c, o1.d\n",
    "print o2.a, o2.b, o2.c, o2.d"
   ]
  },
  {
   "cell_type": "code",
   "execution_count": 10,
   "metadata": {},
   "outputs": [],
   "source": [
    "class BankAccount():\n",
    "    def __init__(self, bal):\n",
    "        self.bal = bal\n",
    "        self.min_bal = bal\n",
    "b1 = BankAccount(5000)\n",
    "b2 = BankAccount(1000)"
   ]
  },
  {
   "cell_type": "code",
   "execution_count": 11,
   "metadata": {},
   "outputs": [
    {
     "name": "stdout",
     "output_type": "stream",
     "text": [
      "<__main__.Myclass instance at 0x0000000006960B08>\n"
     ]
    }
   ],
   "source": [
    "class Myclass():\n",
    "    a = 10\n",
    "    b = 20\n",
    "    def __init__(self, c, d):\n",
    "        print self\n",
    "        self.c = d\n",
    "        self.d = c\n",
    "o1 = Myclass(30, 40)"
   ]
  },
  {
   "cell_type": "code",
   "execution_count": 12,
   "metadata": {},
   "outputs": [
    {
     "name": "stdout",
     "output_type": "stream",
     "text": [
      "<__main__.Myclass instance at 0x0000000006960B08>\n"
     ]
    }
   ],
   "source": [
    "print o1"
   ]
  },
  {
   "cell_type": "code",
   "execution_count": 13,
   "metadata": {},
   "outputs": [
    {
     "name": "stdout",
     "output_type": "stream",
     "text": [
      "<__main__.Myclass instance at 0x0000000006960B88>\n"
     ]
    }
   ],
   "source": [
    "o2 = Myclass(60, 70)"
   ]
  },
  {
   "cell_type": "code",
   "execution_count": 14,
   "metadata": {},
   "outputs": [
    {
     "name": "stdout",
     "output_type": "stream",
     "text": [
      "<__main__.Myclass instance at 0x0000000006960B88>\n"
     ]
    }
   ],
   "source": [
    "print o2"
   ]
  },
  {
   "cell_type": "code",
   "execution_count": 19,
   "metadata": {},
   "outputs": [],
   "source": [
    "class Myclass():\n",
    "    a = 10\n",
    "    b = 20\n",
    "    def __init__(self, c, d):\n",
    "        self.c = d\n",
    "        self.d = c\n",
    "    def myfun1(self):\n",
    "        print self\n",
    "        print self.c\n",
    "        print self.d\n",
    "    def myfun(self):\n",
    "        self.myfun1()\n",
    "    \n",
    "o1 = Myclass(30, 40)\n",
    "o2 = Myclass(60, 70)"
   ]
  },
  {
   "cell_type": "code",
   "execution_count": 20,
   "metadata": {},
   "outputs": [
    {
     "name": "stdout",
     "output_type": "stream",
     "text": [
      "<__main__.Myclass instance at 0x0000000006969308>\n",
      "40\n",
      "30\n",
      "None\n",
      "<__main__.Myclass instance at 0x0000000006969308>\n"
     ]
    }
   ],
   "source": [
    "print o1.myfun()\n",
    "print o1"
   ]
  },
  {
   "cell_type": "code",
   "execution_count": 21,
   "metadata": {},
   "outputs": [
    {
     "name": "stdout",
     "output_type": "stream",
     "text": [
      "<__main__.Myclass instance at 0x0000000006969348>\n",
      "70\n",
      "60\n",
      "None\n",
      "<__main__.Myclass instance at 0x0000000006969348>\n"
     ]
    }
   ],
   "source": [
    "print o2.myfun()\n",
    "print o2"
   ]
  },
  {
   "cell_type": "code",
   "execution_count": 22,
   "metadata": {},
   "outputs": [],
   "source": [
    "class Myclass():\n",
    "    a = 10\n",
    "    b = 20\n",
    "    def __init__(self, c, d):\n",
    "        self.c = d\n",
    "        self.d = c\n",
    "    def myfun1(self):\n",
    "        print self\n",
    "        print self.c\n",
    "        print self.d\n",
    "    def myfun(x):\n",
    "        print x\n",
    "        x.myfun1()\n",
    "    \n",
    "o1 = Myclass(30, 40)\n",
    "o2 = Myclass(60, 70)"
   ]
  },
  {
   "cell_type": "code",
   "execution_count": 25,
   "metadata": {
    "scrolled": true
   },
   "outputs": [
    {
     "name": "stdout",
     "output_type": "stream",
     "text": [
      "<__main__.Myclass instance at 0x0000000006969588>\n",
      "<__main__.Myclass instance at 0x0000000006969588>\n",
      "40\n",
      "30\n",
      "<__main__.Myclass instance at 0x0000000006969588>\n"
     ]
    }
   ],
   "source": [
    "o1.myfun()\n",
    "print o1"
   ]
  },
  {
   "cell_type": "code",
   "execution_count": 24,
   "metadata": {},
   "outputs": [
    {
     "name": "stdout",
     "output_type": "stream",
     "text": [
      "<__main__.Myclass instance at 0x00000000069695C8>\n",
      "<__main__.Myclass instance at 0x00000000069695C8>\n",
      "70\n",
      "60\n"
     ]
    }
   ],
   "source": [
    "o2.myfun()"
   ]
  },
  {
   "cell_type": "code",
   "execution_count": 33,
   "metadata": {},
   "outputs": [
    {
     "name": "stdout",
     "output_type": "stream",
     "text": [
      "\n"
     ]
    }
   ],
   "source": [
    "class Myclass():\n",
    "    a = 10\n",
    "    b = 20\n",
    "    def __init__(self, c, d):\n",
    "        self.c = d\n",
    "        self.d = c\n",
    "        self.e = 80\n",
    "o1 = Myclass(30, 40)\n",
    "o2 = Myclass(60, 70)"
   ]
  },
  {
   "cell_type": "code",
   "execution_count": 34,
   "metadata": {},
   "outputs": [
    {
     "name": "stdout",
     "output_type": "stream",
     "text": [
      "10 20 40 30 80\n",
      "10 20 70 60 80\n"
     ]
    }
   ],
   "source": [
    "print o1.a, o1.b, o1.c, o1.d, o1.e\n",
    "print o2.a, o2.b, o2.c, o2.d, o2.e"
   ]
  },
  {
   "cell_type": "code",
   "execution_count": 35,
   "metadata": {},
   "outputs": [],
   "source": [
    "Myclass.a = 100"
   ]
  },
  {
   "cell_type": "code",
   "execution_count": 36,
   "metadata": {},
   "outputs": [
    {
     "name": "stdout",
     "output_type": "stream",
     "text": [
      "100 100 100\n"
     ]
    }
   ],
   "source": [
    "o3 = Myclass(11, 12)\n",
    "print o3.a, o2.a, o1.a"
   ]
  },
  {
   "cell_type": "code",
   "execution_count": null,
   "metadata": {},
   "outputs": [],
   "source": [
    "o2.a = 50"
   ]
  }
 ],
 "metadata": {
  "kernelspec": {
   "display_name": "Python 2",
   "language": "python",
   "name": "python2"
  },
  "language_info": {
   "codemirror_mode": {
    "name": "ipython",
    "version": 2
   },
   "file_extension": ".py",
   "mimetype": "text/x-python",
   "name": "python",
   "nbconvert_exporter": "python",
   "pygments_lexer": "ipython2",
   "version": "2.7.15"
  }
 },
 "nbformat": 4,
 "nbformat_minor": 2
}
