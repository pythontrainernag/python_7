{
 "cells": [
  {
   "cell_type": "code",
   "execution_count": 1,
   "metadata": {},
   "outputs": [
    {
     "name": "stdout",
     "output_type": "stream",
     "text": [
      "Enter numerator 5a\n"
     ]
    },
    {
     "ename": "ValueError",
     "evalue": "invalid literal for int() with base 10: '5a'",
     "output_type": "error",
     "traceback": [
      "\u001b[1;31m---------------------------------------------------------------------------\u001b[0m",
      "\u001b[1;31mValueError\u001b[0m                                Traceback (most recent call last)",
      "\u001b[1;32m<ipython-input-1-834e6b75b678>\u001b[0m in \u001b[0;36m<module>\u001b[1;34m()\u001b[0m\n\u001b[0;32m      2\u001b[0m \u001b[1;31m#error is irrecoverable\u001b[0m\u001b[1;33m\u001b[0m\u001b[1;33m\u001b[0m\u001b[0m\n\u001b[0;32m      3\u001b[0m \u001b[1;31m#exception is recoverable\u001b[0m\u001b[1;33m\u001b[0m\u001b[1;33m\u001b[0m\u001b[0m\n\u001b[1;32m----> 4\u001b[1;33m \u001b[0ma\u001b[0m \u001b[1;33m=\u001b[0m \u001b[0mint\u001b[0m\u001b[1;33m(\u001b[0m\u001b[0mraw_input\u001b[0m\u001b[1;33m(\u001b[0m\u001b[1;34m\"Enter numerator \"\u001b[0m\u001b[1;33m)\u001b[0m\u001b[1;33m)\u001b[0m\u001b[1;33m\u001b[0m\u001b[0m\n\u001b[0m\u001b[0;32m      5\u001b[0m \u001b[0mb\u001b[0m \u001b[1;33m=\u001b[0m \u001b[0mint\u001b[0m\u001b[1;33m(\u001b[0m\u001b[0mraw_input\u001b[0m\u001b[1;33m(\u001b[0m\u001b[1;34m\"Enter denominator \"\u001b[0m\u001b[1;33m)\u001b[0m\u001b[1;33m)\u001b[0m\u001b[1;33m\u001b[0m\u001b[0m\n\u001b[0;32m      6\u001b[0m \u001b[1;32mprint\u001b[0m \u001b[0ma\u001b[0m\u001b[1;33m/\u001b[0m\u001b[0mb\u001b[0m\u001b[1;33m\u001b[0m\u001b[0m\n",
      "\u001b[1;31mValueError\u001b[0m: invalid literal for int() with base 10: '5a'"
     ]
    }
   ],
   "source": [
    "#error and exception\n",
    "#error is irrecoverable\n",
    "#exception is recoverable\n",
    "a = int(raw_input(\"Enter numerator \"))\n",
    "b = int(raw_input(\"Enter denominator \"))\n",
    "print a/b"
   ]
  },
  {
   "cell_type": "code",
   "execution_count": 2,
   "metadata": {},
   "outputs": [
    {
     "name": "stdout",
     "output_type": "stream",
     "text": [
      "Enter numerator 5.5\n"
     ]
    },
    {
     "ename": "ValueError",
     "evalue": "invalid literal for int() with base 10: '5.5'",
     "output_type": "error",
     "traceback": [
      "\u001b[1;31m---------------------------------------------------------------------------\u001b[0m",
      "\u001b[1;31mValueError\u001b[0m                                Traceback (most recent call last)",
      "\u001b[1;32m<ipython-input-2-5bc9884d7ff3>\u001b[0m in \u001b[0;36m<module>\u001b[1;34m()\u001b[0m\n\u001b[1;32m----> 1\u001b[1;33m \u001b[0ma\u001b[0m \u001b[1;33m=\u001b[0m \u001b[0mint\u001b[0m\u001b[1;33m(\u001b[0m\u001b[0mraw_input\u001b[0m\u001b[1;33m(\u001b[0m\u001b[1;34m\"Enter numerator \"\u001b[0m\u001b[1;33m)\u001b[0m\u001b[1;33m)\u001b[0m\u001b[1;33m\u001b[0m\u001b[0m\n\u001b[0m\u001b[0;32m      2\u001b[0m \u001b[0mb\u001b[0m \u001b[1;33m=\u001b[0m \u001b[0mint\u001b[0m\u001b[1;33m(\u001b[0m\u001b[0mraw_input\u001b[0m\u001b[1;33m(\u001b[0m\u001b[1;34m\"Enter denominator \"\u001b[0m\u001b[1;33m)\u001b[0m\u001b[1;33m)\u001b[0m\u001b[1;33m\u001b[0m\u001b[0m\n\u001b[0;32m      3\u001b[0m \u001b[1;32mprint\u001b[0m \u001b[0ma\u001b[0m\u001b[1;33m/\u001b[0m\u001b[0mb\u001b[0m\u001b[1;33m\u001b[0m\u001b[0m\n",
      "\u001b[1;31mValueError\u001b[0m: invalid literal for int() with base 10: '5.5'"
     ]
    }
   ],
   "source": [
    "a = int(raw_input(\"Enter numerator \"))\n",
    "b = int(raw_input(\"Enter denominator \"))\n",
    "print a/b"
   ]
  },
  {
   "cell_type": "code",
   "execution_count": 3,
   "metadata": {},
   "outputs": [
    {
     "name": "stdout",
     "output_type": "stream",
     "text": [
      "Enter numerator 5\n",
      "Enter denominator 0\n"
     ]
    },
    {
     "ename": "ZeroDivisionError",
     "evalue": "integer division or modulo by zero",
     "output_type": "error",
     "traceback": [
      "\u001b[1;31m---------------------------------------------------------------------------\u001b[0m",
      "\u001b[1;31mZeroDivisionError\u001b[0m                         Traceback (most recent call last)",
      "\u001b[1;32m<ipython-input-3-5bc9884d7ff3>\u001b[0m in \u001b[0;36m<module>\u001b[1;34m()\u001b[0m\n\u001b[0;32m      1\u001b[0m \u001b[0ma\u001b[0m \u001b[1;33m=\u001b[0m \u001b[0mint\u001b[0m\u001b[1;33m(\u001b[0m\u001b[0mraw_input\u001b[0m\u001b[1;33m(\u001b[0m\u001b[1;34m\"Enter numerator \"\u001b[0m\u001b[1;33m)\u001b[0m\u001b[1;33m)\u001b[0m\u001b[1;33m\u001b[0m\u001b[0m\n\u001b[0;32m      2\u001b[0m \u001b[0mb\u001b[0m \u001b[1;33m=\u001b[0m \u001b[0mint\u001b[0m\u001b[1;33m(\u001b[0m\u001b[0mraw_input\u001b[0m\u001b[1;33m(\u001b[0m\u001b[1;34m\"Enter denominator \"\u001b[0m\u001b[1;33m)\u001b[0m\u001b[1;33m)\u001b[0m\u001b[1;33m\u001b[0m\u001b[0m\n\u001b[1;32m----> 3\u001b[1;33m \u001b[1;32mprint\u001b[0m \u001b[0ma\u001b[0m\u001b[1;33m/\u001b[0m\u001b[0mb\u001b[0m\u001b[1;33m\u001b[0m\u001b[0m\n\u001b[0m",
      "\u001b[1;31mZeroDivisionError\u001b[0m: integer division or modulo by zero"
     ]
    }
   ],
   "source": [
    "a = int(raw_input(\"Enter numerator \"))\n",
    "b = int(raw_input(\"Enter denominator \"))\n",
    "print a/b"
   ]
  },
  {
   "cell_type": "code",
   "execution_count": 4,
   "metadata": {},
   "outputs": [
    {
     "ename": "IOError",
     "evalue": "[Errno 2] No such file or directory: 'yahoo.txt'",
     "output_type": "error",
     "traceback": [
      "\u001b[1;31m---------------------------------------------------------------------------\u001b[0m",
      "\u001b[1;31mIOError\u001b[0m                                   Traceback (most recent call last)",
      "\u001b[1;32m<ipython-input-4-e68c48a665d3>\u001b[0m in \u001b[0;36m<module>\u001b[1;34m()\u001b[0m\n\u001b[1;32m----> 1\u001b[1;33m \u001b[0mf\u001b[0m \u001b[1;33m=\u001b[0m \u001b[0mopen\u001b[0m\u001b[1;33m(\u001b[0m\u001b[1;34m'yahoo.txt'\u001b[0m\u001b[1;33m,\u001b[0m \u001b[1;34m'r'\u001b[0m\u001b[1;33m)\u001b[0m\u001b[1;33m\u001b[0m\u001b[0m\n\u001b[0m",
      "\u001b[1;31mIOError\u001b[0m: [Errno 2] No such file or directory: 'yahoo.txt'"
     ]
    }
   ],
   "source": [
    "f = open('yahoo.txt', 'r')"
   ]
  },
  {
   "cell_type": "code",
   "execution_count": 5,
   "metadata": {},
   "outputs": [
    {
     "name": "stdout",
     "output_type": "stream",
     "text": [
      "Enter numerator 5\n",
      "Enter denominator a\n",
      "You have entered characters other  than number\n"
     ]
    }
   ],
   "source": [
    "try:\n",
    "    a = int(raw_input(\"Enter numerator \"))\n",
    "    b = int(raw_input(\"Enter denominator \"))\n",
    "    print a/b\n",
    "except Exception as e:\n",
    "    print \"You have entered characters other  than number\""
   ]
  },
  {
   "cell_type": "code",
   "execution_count": 6,
   "metadata": {},
   "outputs": [
    {
     "name": "stdout",
     "output_type": "stream",
     "text": [
      "Enter numerator 5\n",
      "Enter denominator 0\n",
      "You have entered characters other  than number\n"
     ]
    }
   ],
   "source": [
    "try:\n",
    "    a = int(raw_input(\"Enter numerator \"))\n",
    "    b = int(raw_input(\"Enter denominator \"))\n",
    "    print a/b\n",
    "except Exception as e:\n",
    "    print \"You have entered characters other  than number\""
   ]
  },
  {
   "cell_type": "code",
   "execution_count": 7,
   "metadata": {},
   "outputs": [
    {
     "name": "stdout",
     "output_type": "stream",
     "text": [
      "Enter numerator 5\n",
      "Enter denominator 0\n"
     ]
    },
    {
     "ename": "ZeroDivisionError",
     "evalue": "integer division or modulo by zero",
     "output_type": "error",
     "traceback": [
      "\u001b[1;31m---------------------------------------------------------------------------\u001b[0m",
      "\u001b[1;31mZeroDivisionError\u001b[0m                         Traceback (most recent call last)",
      "\u001b[1;32m<ipython-input-7-0ffc1314e83c>\u001b[0m in \u001b[0;36m<module>\u001b[1;34m()\u001b[0m\n\u001b[0;32m      3\u001b[0m     \u001b[0ma\u001b[0m \u001b[1;33m=\u001b[0m \u001b[0mint\u001b[0m\u001b[1;33m(\u001b[0m\u001b[0mraw_input\u001b[0m\u001b[1;33m(\u001b[0m\u001b[1;34m\"Enter numerator \"\u001b[0m\u001b[1;33m)\u001b[0m\u001b[1;33m)\u001b[0m\u001b[1;33m\u001b[0m\u001b[0m\n\u001b[0;32m      4\u001b[0m     \u001b[0mb\u001b[0m \u001b[1;33m=\u001b[0m \u001b[0mint\u001b[0m\u001b[1;33m(\u001b[0m\u001b[0mraw_input\u001b[0m\u001b[1;33m(\u001b[0m\u001b[1;34m\"Enter denominator \"\u001b[0m\u001b[1;33m)\u001b[0m\u001b[1;33m)\u001b[0m\u001b[1;33m\u001b[0m\u001b[0m\n\u001b[1;32m----> 5\u001b[1;33m     \u001b[1;32mprint\u001b[0m \u001b[0ma\u001b[0m\u001b[1;33m/\u001b[0m\u001b[0mb\u001b[0m\u001b[1;33m\u001b[0m\u001b[0m\n\u001b[0m\u001b[0;32m      6\u001b[0m \u001b[1;32mexcept\u001b[0m \u001b[0mValueError\u001b[0m \u001b[1;32mas\u001b[0m \u001b[0me\u001b[0m\u001b[1;33m:\u001b[0m\u001b[1;33m\u001b[0m\u001b[0m\n\u001b[0;32m      7\u001b[0m     \u001b[1;32mprint\u001b[0m \u001b[1;34m\"You have entered characters other  than number\"\u001b[0m\u001b[1;33m\u001b[0m\u001b[0m\n",
      "\u001b[1;31mZeroDivisionError\u001b[0m: integer division or modulo by zero"
     ]
    }
   ],
   "source": [
    "#ValueError\n",
    "try:\n",
    "    a = int(raw_input(\"Enter numerator \"))\n",
    "    b = int(raw_input(\"Enter denominator \"))\n",
    "    print a/b\n",
    "except ValueError as e:\n",
    "    print \"You have entered characters other  than number\""
   ]
  },
  {
   "cell_type": "code",
   "execution_count": 8,
   "metadata": {},
   "outputs": [
    {
     "name": "stdout",
     "output_type": "stream",
     "text": [
      "Enter numerator 5\n",
      "Enter denominator c\n",
      "You have entered characters other  than number\n"
     ]
    }
   ],
   "source": [
    "try:\n",
    "    a = int(raw_input(\"Enter numerator \"))\n",
    "    b = int(raw_input(\"Enter denominator \"))\n",
    "    print a/b\n",
    "except ValueError as e:\n",
    "    print \"You have entered characters other  than number\""
   ]
  },
  {
   "cell_type": "code",
   "execution_count": 9,
   "metadata": {},
   "outputs": [
    {
     "name": "stdout",
     "output_type": "stream",
     "text": [
      "Enter numerator 5\n",
      "Enter denominator 0\n",
      "integer division or modulo by zero\n"
     ]
    }
   ],
   "source": [
    "try:\n",
    "    a = int(raw_input(\"Enter numerator \"))\n",
    "    b = int(raw_input(\"Enter denominator \"))\n",
    "    print a/b\n",
    "except ValueError as e:\n",
    "    print \"You have entered characters other  than number\"\n",
    "except ZeroDivisionError as e:\n",
    "    print e"
   ]
  },
  {
   "cell_type": "code",
   "execution_count": 10,
   "metadata": {},
   "outputs": [
    {
     "name": "stdout",
     "output_type": "stream",
     "text": [
      "Enter numerator 5\n",
      "Enter denominator g\n",
      "You have entered characters other  than number\n"
     ]
    }
   ],
   "source": [
    "try:\n",
    "    a = int(raw_input(\"Enter numerator \"))\n",
    "    b = int(raw_input(\"Enter denominator \"))\n",
    "    print a/b\n",
    "except ValueError as e:\n",
    "    print \"You have entered characters other  than number\"\n",
    "except ZeroDivisionError as e:\n",
    "    print e"
   ]
  },
  {
   "cell_type": "code",
   "execution_count": 11,
   "metadata": {},
   "outputs": [
    {
     "name": "stdout",
     "output_type": "stream",
     "text": [
      "Enter numerator 5\n",
      "Enter denominator 0\n",
      "You have entered characters other  than number\n"
     ]
    }
   ],
   "source": [
    "try:\n",
    "    a = int(raw_input(\"Enter numerator \"))\n",
    "    b = int(raw_input(\"Enter denominator \"))\n",
    "    print a/b\n",
    "except Exception as e:\n",
    "    print \"You have entered characters other  than number\"\n",
    "except ZeroDivisionError as e:\n",
    "    print e"
   ]
  },
  {
   "cell_type": "code",
   "execution_count": 3,
   "metadata": {},
   "outputs": [
    {
     "name": "stdout",
     "output_type": "stream",
     "text": [
      "Enter numerator 5\n",
      "Enter denominator 0\n",
      "before division\n",
      "integer division or modulo by zero\n"
     ]
    }
   ],
   "source": [
    "try:\n",
    "    a = int(raw_input(\"Enter numerator \"))\n",
    "    b = int(raw_input(\"Enter denominator \"))\n",
    "    print \"before division\"\n",
    "    print a/b\n",
    "    print \"after division\"\n",
    "except ValueError as e:\n",
    "    print \"You have entered characters other  than number\"\n",
    "except ZeroDivisionError as e:\n",
    "    print e"
   ]
  },
  {
   "cell_type": "code",
   "execution_count": 4,
   "metadata": {},
   "outputs": [
    {
     "name": "stdout",
     "output_type": "stream",
     "text": [
      "Enter numerator 5\n",
      "Enter denominator d\n",
      "You have entered characters other  than number\n"
     ]
    }
   ],
   "source": [
    "try:\n",
    "    a = int(raw_input(\"Enter numerator \"))\n",
    "    b = int(raw_input(\"Enter denominator \"))\n",
    "    print \"before division\"\n",
    "    print a/b\n",
    "    print \"after division\"\n",
    "except ValueError as e:\n",
    "    print \"You have entered characters other  than number\"\n",
    "except ZeroDivisionError as e:\n",
    "    print e"
   ]
  },
  {
   "cell_type": "code",
   "execution_count": 6,
   "metadata": {},
   "outputs": [
    {
     "name": "stdout",
     "output_type": "stream",
     "text": [
      "Enter numerator 10\n",
      "Enter denominator 0\n",
      "You have entered zero in denominator. Please enter a number other than zero5\n",
      "2\n"
     ]
    }
   ],
   "source": [
    "try:\n",
    "    a = int(raw_input(\"Enter numerator \"))\n",
    "    b = int(raw_input(\"Enter denominator \"))\n",
    "    print a/b\n",
    "except ValueError as e:\n",
    "    print \"You have entered characters either in numerator or denominator. Please enter numbers\"\n",
    "    a = int(raw_input(\"Enter numerator \"))\n",
    "    b = int(raw_input(\"Enter denominator other than zero\"))\n",
    "    print a/b\n",
    "except ZeroDivisionError as e:\n",
    "    b = int(raw_input(\"You have entered zero in denominator. Please enter a number other than zero\"))\n",
    "    print a/b"
   ]
  },
  {
   "cell_type": "code",
   "execution_count": 7,
   "metadata": {},
   "outputs": [
    {
     "name": "stdout",
     "output_type": "stream",
     "text": [
      "Enter numerator 10\n",
      "Enter denominator d\n",
      "You have entered characters either in numerator or denominator. Please enter numbers\n",
      "Enter numerator 10\n",
      "Enter denominator other than zero5\n",
      "2\n"
     ]
    }
   ],
   "source": [
    "try:\n",
    "    a = int(raw_input(\"Enter numerator \"))\n",
    "    b = int(raw_input(\"Enter denominator \"))\n",
    "    print a/b\n",
    "except ValueError as e:\n",
    "    print \"You have entered characters either in numerator or denominator. Please enter numbers\"\n",
    "    a = int(raw_input(\"Enter numerator \"))\n",
    "    b = int(raw_input(\"Enter denominator other than zero\"))\n",
    "    print a/b\n",
    "except ZeroDivisionError as e:\n",
    "    b = int(raw_input(\"You have entered zero in denominator. Please enter a number other than zero\"))\n",
    "    print a/b"
   ]
  },
  {
   "cell_type": "code",
   "execution_count": 11,
   "metadata": {},
   "outputs": [
    {
     "name": "stdout",
     "output_type": "stream",
     "text": [
      "Enter numerator 5\n",
      "Enter denominator 3\n",
      "in finally\n",
      "1\n"
     ]
    }
   ],
   "source": [
    "#f = open()\n",
    "#c = 5/0\n",
    "#f.close()\n",
    "try:\n",
    "    a = int(raw_input(\"Enter numerator \"))\n",
    "    b = int(raw_input(\"Enter denominator \"))\n",
    "    if a is 0:\n",
    "        raise ZeroDivisionError(\"You have enter zero in denominator\")\n",
    "except ValueError as e:\n",
    "    print \"You have entered characters either in numerator or denominator. Please enter numbers\"\n",
    "    a = int(raw_input(\"Enter numerator \"))\n",
    "    b = int(raw_input(\"Enter denominator other than zero\"))\n",
    "except ZeroDivisionError as e:\n",
    "    b = int(raw_input(\"You have entered zero in denominator. Please enter a number other than zero\"))\n",
    "finally:\n",
    "    print \"in finally\"\n",
    "    print a/b"
   ]
  },
  {
   "cell_type": "code",
   "execution_count": 17,
   "metadata": {},
   "outputs": [
    {
     "name": "stdout",
     "output_type": "stream",
     "text": [
      "Enter numerator 10\n",
      "Enter denominator 0\n",
      "You have entered zero in denominator. Please enter a number other than zero6\n",
      "in finally\n",
      "1\n"
     ]
    }
   ],
   "source": [
    "#f = open()\n",
    "#c = 5/0\n",
    "#f.close()\n",
    "try:\n",
    "    a = int(raw_input(\"Enter numerator \"))\n",
    "    b = int(raw_input(\"Enter denominator \"))\n",
    "    if b is 0:\n",
    "        raise ZeroDivisionError(\"You have enter zero in denominator\")\n",
    "except ValueError as e:\n",
    "    print \"You have entered characters either in numerator or denominator. Please enter numbers\"\n",
    "    a = int(raw_input(\"Enter numerator \"))\n",
    "    b = int(raw_input(\"Enter denominator other than zero\"))\n",
    "except ZeroDivisionError as e:\n",
    "    b = int(raw_input(\"You have entered zero in denominator. Please enter a number other than zero\"))\n",
    "finally:\n",
    "    print \"in finally\"\n",
    "    print a/b"
   ]
  },
  {
   "cell_type": "code",
   "execution_count": 19,
   "metadata": {},
   "outputs": [
    {
     "name": "stdout",
     "output_type": "stream",
     "text": [
      "Enter numerator 5\n",
      "Enter denominator 0\n",
      "You have enter zero in denominator3\n",
      "in finally\n",
      "1\n"
     ]
    }
   ],
   "source": [
    "#f = open()\n",
    "#c = 5/0\n",
    "#f.close()\n",
    "try:\n",
    "    a = int(raw_input(\"Enter numerator \"))\n",
    "    b = int(raw_input(\"Enter denominator \"))\n",
    "    if b is 0:\n",
    "        raise ZeroDivisionError(\"You have enter zero in denominator\")\n",
    "except ValueError as e:\n",
    "    print \"You have entered characters either in numerator or denominator. Please enter numbers\"\n",
    "    a = int(raw_input(\"Enter numerator \"))\n",
    "    b = int(raw_input(\"Enter denominator other than zero\"))\n",
    "except ZeroDivisionError as err:\n",
    "    b = int(raw_input(err))\n",
    "finally:\n",
    "    print \"in finally\"\n",
    "    print a/b"
   ]
  },
  {
   "cell_type": "code",
   "execution_count": 20,
   "metadata": {},
   "outputs": [
    {
     "name": "stdout",
     "output_type": "stream",
     "text": [
      "Enter numerator 10\n",
      "Enter denominator 0\n",
      "You have enter zero in denominator4\n",
      "in finally\n",
      "2\n"
     ]
    }
   ],
   "source": [
    "#f = open()\n",
    "#c = 5/0\n",
    "#f.close()\n",
    "try:\n",
    "    a = int(raw_input(\"Enter numerator \"))\n",
    "    b = int(raw_input(\"Enter denominator \"))\n",
    "    if b is 0:\n",
    "        raise ZeroDivisionError(\"You have enter zero in denominator\")\n",
    "except ValueError as e:\n",
    "    print \"You have entered characters either in numerator or denominator. Please enter numbers\"\n",
    "    a = int(raw_input(\"Enter numerator \"))\n",
    "    b = int(raw_input(\"Enter denominator other than zero\"))\n",
    "except ZeroDivisionError as err:\n",
    "    b = int(raw_input(err))\n",
    "print \"in finally\"\n",
    "print a/b"
   ]
  },
  {
   "cell_type": "code",
   "execution_count": 21,
   "metadata": {},
   "outputs": [
    {
     "name": "stdout",
     "output_type": "stream",
     "text": [
      "20\n"
     ]
    }
   ],
   "source": [
    "#why should I go for finally block\n",
    "def myfun(a, b):\n",
    "    try:\n",
    "        print a/b\n",
    "        return 10\n",
    "    except:\n",
    "        return 20\n",
    "    print a/b\n",
    "    return 30\n",
    "print myfun(10, 0) #-------->"
   ]
  },
  {
   "cell_type": "code",
   "execution_count": 22,
   "metadata": {},
   "outputs": [
    {
     "name": "stdout",
     "output_type": "stream",
     "text": [
      "2\n",
      "10\n"
     ]
    }
   ],
   "source": [
    "print myfun(10, 4)"
   ]
  },
  {
   "cell_type": "code",
   "execution_count": 23,
   "metadata": {},
   "outputs": [
    {
     "name": "stdout",
     "output_type": "stream",
     "text": [
      "30\n"
     ]
    }
   ],
   "source": [
    "#why should I go for finally block\n",
    "def myfun(a, b):\n",
    "    try:\n",
    "        print a/b\n",
    "        return 10\n",
    "    except:\n",
    "        return 20\n",
    "    finally:\n",
    "        return 30\n",
    "print myfun(10, 0) #-------->"
   ]
  },
  {
   "cell_type": "code",
   "execution_count": 24,
   "metadata": {},
   "outputs": [
    {
     "name": "stdout",
     "output_type": "stream",
     "text": [
      "2\n",
      "30\n"
     ]
    }
   ],
   "source": [
    "print myfun(10, 4)"
   ]
  },
  {
   "cell_type": "code",
   "execution_count": null,
   "metadata": {},
   "outputs": [],
   "source": [
    "url "
   ]
  }
 ],
 "metadata": {
  "kernelspec": {
   "display_name": "Python 2",
   "language": "python",
   "name": "python2"
  },
  "language_info": {
   "codemirror_mode": {
    "name": "ipython",
    "version": 2
   },
   "file_extension": ".py",
   "mimetype": "text/x-python",
   "name": "python",
   "nbconvert_exporter": "python",
   "pygments_lexer": "ipython2",
   "version": "2.7.15"
  }
 },
 "nbformat": 4,
 "nbformat_minor": 2
}
