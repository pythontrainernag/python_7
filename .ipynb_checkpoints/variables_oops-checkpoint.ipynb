{
 "cells": [
  {
   "cell_type": "code",
   "execution_count": 1,
   "metadata": {},
   "outputs": [
    {
     "name": "stdout",
     "output_type": "stream",
     "text": [
      "10 20 30 40\n",
      "10 20 60 70\n"
     ]
    }
   ],
   "source": [
    "class Myclass():\n",
    "    a = 10\n",
    "    b = 20\n",
    "    def __init__(self, c, d):\n",
    "        self.c = c\n",
    "        self.d = d\n",
    "o1 = Myclass(30,40)\n",
    "o2 = Myclass(60, 70)\n",
    "print o1.a, o1.b, o1.c, o1.d\n",
    "print o2.a, o2.b, o2.c, o2.d"
   ]
  },
  {
   "cell_type": "code",
   "execution_count": 2,
   "metadata": {},
   "outputs": [
    {
     "name": "stdout",
     "output_type": "stream",
     "text": [
      "100 20 30 40\n",
      "10 20 60 70\n"
     ]
    }
   ],
   "source": [
    "o1.a = 100\n",
    "print o1.a, o1.b, o1.c, o1.d\n",
    "print o2.a, o2.b, o2.c, o2.d"
   ]
  },
  {
   "cell_type": "code",
   "execution_count": 3,
   "metadata": {},
   "outputs": [
    {
     "name": "stdout",
     "output_type": "stream",
     "text": [
      "100 20 30 40\n",
      "200 20 60 70\n",
      "200 20 80 90\n"
     ]
    }
   ],
   "source": [
    "Myclass.a = 200\n",
    "o3 = Myclass(80,90)\n",
    "print o1.a, o1.b, o1.c, o1.d\n",
    "print o2.a, o2.b, o2.c, o2.d\n",
    "print o3.a, o3.b, o3.c, o3.d"
   ]
  },
  {
   "cell_type": "code",
   "execution_count": 4,
   "metadata": {},
   "outputs": [
    {
     "name": "stdout",
     "output_type": "stream",
     "text": [
      "0\n"
     ]
    }
   ],
   "source": [
    "#3/5\n",
    "print 3/5"
   ]
  },
  {
   "cell_type": "code",
   "execution_count": 5,
   "metadata": {},
   "outputs": [],
   "source": [
    "class Fraction():\n",
    "    def __init__(self, num, denominator):\n",
    "        self.num = num\n",
    "        self.denom = denom\n",
    "    def display(self):\n",
    "        return str(self.num)+'/'+str(self.denom)"
   ]
  },
  {
   "cell_type": "code",
   "execution_count": 6,
   "metadata": {},
   "outputs": [
    {
     "name": "stdout",
     "output_type": "stream",
     "text": [
      "['__doc__', '__init__', '__module__', 'a', 'b', 'c', 'd']\n"
     ]
    }
   ],
   "source": [
    "print dir(o1)"
   ]
  },
  {
   "cell_type": "code",
   "execution_count": 7,
   "metadata": {},
   "outputs": [
    {
     "name": "stdout",
     "output_type": "stream",
     "text": [
      "['__doc__', '__init__', '__module__', 'a', 'b', 'c', 'd']\n"
     ]
    }
   ],
   "source": [
    "print dir(o2)"
   ]
  },
  {
   "cell_type": "code",
   "execution_count": 9,
   "metadata": {},
   "outputs": [
    {
     "name": "stdout",
     "output_type": "stream",
     "text": [
      "3/5\n"
     ]
    }
   ],
   "source": [
    "class Fraction():\n",
    "    def __init__(self, num, denom):\n",
    "        self.num = num\n",
    "        self.denom = denom\n",
    "    def display(self):\n",
    "        return str(self.num)+'/'+str(self.denom)\n",
    "f1 = Fraction(3, 5)\n",
    "print f1.display()"
   ]
  },
  {
   "cell_type": "code",
   "execution_count": 10,
   "metadata": {},
   "outputs": [
    {
     "name": "stdout",
     "output_type": "stream",
     "text": [
      "<__main__.Fraction instance at 0x0000000006D7F148>\n"
     ]
    }
   ],
   "source": [
    "print f1"
   ]
  },
  {
   "cell_type": "code",
   "execution_count": 11,
   "metadata": {},
   "outputs": [
    {
     "name": "stdout",
     "output_type": "stream",
     "text": [
      "3/5\n"
     ]
    }
   ],
   "source": [
    "class Fraction():\n",
    "    def __init__(self, num, denom):\n",
    "        self.num = num\n",
    "        self.denom = denom\n",
    "    def __str__(self):\n",
    "        return str(self.num)+'/'+str(self.denom)\n",
    "f1 = Fraction(3, 5)\n",
    "print f1"
   ]
  },
  {
   "cell_type": "code",
   "execution_count": 12,
   "metadata": {},
   "outputs": [],
   "source": [
    "#__new__  -----> used to create the instance(object class)\n",
    "#__init__\n",
    "#__call__\n",
    "#__str__, __int__"
   ]
  },
  {
   "cell_type": "code",
   "execution_count": 1,
   "metadata": {},
   "outputs": [
    {
     "name": "stdout",
     "output_type": "stream",
     "text": [
      "3/5\n",
      "12/10\n"
     ]
    }
   ],
   "source": [
    "class Fraction():\n",
    "    def __init__(self, num, denom):\n",
    "        self.num = num\n",
    "        self.denom = denom\n",
    "    def __str__(self):\n",
    "        return str(self.num)+'/'+str(self.denom)\n",
    "    def addi(self, other):\n",
    "        num = (self.num*other.denom)+(other.num*self.denom)\n",
    "        denom = self.denom*other.denom\n",
    "        return str(num)+'/'+str(denom)\n",
    "        \n",
    "f1 = Fraction(3, 5)\n",
    "f2 = Fraction(12, 10)\n",
    "print f1\n",
    "print f2"
   ]
  },
  {
   "cell_type": "code",
   "execution_count": 2,
   "metadata": {},
   "outputs": [
    {
     "name": "stdout",
     "output_type": "stream",
     "text": [
      "90/50\n"
     ]
    }
   ],
   "source": [
    "print f1.addi(f2)"
   ]
  },
  {
   "cell_type": "code",
   "execution_count": 3,
   "metadata": {},
   "outputs": [
    {
     "name": "stdout",
     "output_type": "stream",
     "text": [
      "3/5\n",
      "12/10\n",
      "90/50\n"
     ]
    }
   ],
   "source": [
    "class Fraction():\n",
    "    def __init__(self, num, denom):\n",
    "        self.num = num\n",
    "        self.denom = denom\n",
    "    def __str__(self):\n",
    "        return str(self.num)+'/'+str(self.denom)\n",
    "    def __add__(self, other):\n",
    "        num = (self.num*other.denom)+(other.num*self.denom)\n",
    "        denom = self.denom*other.denom\n",
    "        return str(num)+'/'+str(denom)\n",
    "        \n",
    "f1 = Fraction(3, 5)\n",
    "f2 = Fraction(12, 10)\n",
    "print f1\n",
    "print f2\n",
    "print f1+f2"
   ]
  },
  {
   "cell_type": "code",
   "execution_count": 4,
   "metadata": {},
   "outputs": [
    {
     "name": "stdout",
     "output_type": "stream",
     "text": [
      "5\n"
     ]
    }
   ],
   "source": [
    "class MyInt(int):\n",
    "    def __init__(self, num):\n",
    "        self.num = num\n",
    "        super(MyInt, self).__init__()\n",
    "    def __int__(self):\n",
    "        return self.num\n",
    "    def __add__(self, other):\n",
    "        return self.num+other.num+1\n",
    "n1 = MyInt(5)\n",
    "print n1"
   ]
  },
  {
   "cell_type": "code",
   "execution_count": 5,
   "metadata": {},
   "outputs": [],
   "source": [
    "n2 = MyInt(6)"
   ]
  },
  {
   "cell_type": "code",
   "execution_count": 6,
   "metadata": {},
   "outputs": [
    {
     "name": "stdout",
     "output_type": "stream",
     "text": [
      "6\n",
      "5\n"
     ]
    }
   ],
   "source": [
    "print n2\n",
    "print n1"
   ]
  },
  {
   "cell_type": "code",
   "execution_count": 7,
   "metadata": {},
   "outputs": [
    {
     "name": "stdout",
     "output_type": "stream",
     "text": [
      "12\n"
     ]
    }
   ],
   "source": [
    "print n1+n2"
   ]
  },
  {
   "cell_type": "code",
   "execution_count": 8,
   "metadata": {},
   "outputs": [
    {
     "name": "stdout",
     "output_type": "stream",
     "text": [
      "-1\n"
     ]
    }
   ],
   "source": [
    "print n1-n2"
   ]
  },
  {
   "cell_type": "code",
   "execution_count": 10,
   "metadata": {},
   "outputs": [
    {
     "name": "stdout",
     "output_type": "stream",
     "text": [
      "30\n"
     ]
    }
   ],
   "source": [
    "print n1*n2"
   ]
  },
  {
   "cell_type": "code",
   "execution_count": 11,
   "metadata": {},
   "outputs": [
    {
     "name": "stdout",
     "output_type": "stream",
     "text": [
      "['__abs__', '__add__', '__and__', '__class__', '__cmp__', '__coerce__', '__delattr__', '__div__', '__divmod__', '__doc__', '__float__', '__floordiv__', '__format__', '__getattribute__', '__getnewargs__', '__hash__', '__hex__', '__index__', '__init__', '__int__', '__invert__', '__long__', '__lshift__', '__mod__', '__mul__', '__neg__', '__new__', '__nonzero__', '__oct__', '__or__', '__pos__', '__pow__', '__radd__', '__rand__', '__rdiv__', '__rdivmod__', '__reduce__', '__reduce_ex__', '__repr__', '__rfloordiv__', '__rlshift__', '__rmod__', '__rmul__', '__ror__', '__rpow__', '__rrshift__', '__rshift__', '__rsub__', '__rtruediv__', '__rxor__', '__setattr__', '__sizeof__', '__str__', '__sub__', '__subclasshook__', '__truediv__', '__trunc__', '__xor__', 'bit_length', 'conjugate', 'denominator', 'imag', 'numerator', 'real']\n"
     ]
    }
   ],
   "source": [
    "print dir(5)"
   ]
  },
  {
   "cell_type": "code",
   "execution_count": 12,
   "metadata": {},
   "outputs": [],
   "source": [
    "#inheritance\n",
    "#laptops and desktops\n",
    "#laptop had inherited from Desktops\n",
    "#Nose is like your father\n"
   ]
  },
  {
   "cell_type": "code",
   "execution_count": 13,
   "metadata": {},
   "outputs": [
    {
     "name": "stdout",
     "output_type": "stream",
     "text": [
      "['__class__', '__delattr__', '__dict__', '__doc__', '__format__', '__getattribute__', '__hash__', '__init__', '__module__', '__new__', '__reduce__', '__reduce_ex__', '__repr__', '__setattr__', '__sizeof__', '__str__', '__subclasshook__', '__weakref__', 'myfun']\n"
     ]
    }
   ],
   "source": [
    "#saving account, currents accounts, salary accounts\n",
    "#Account\n",
    "class Parent(object):\n",
    "    def myfun(self):\n",
    "        return \"Hello I am from parent\"\n",
    "class Child(Parent):\n",
    "    pass\n",
    "c1 = Child()\n",
    "print dir(c1)"
   ]
  },
  {
   "cell_type": "code",
   "execution_count": 14,
   "metadata": {},
   "outputs": [
    {
     "name": "stdout",
     "output_type": "stream",
     "text": [
      "Hello I am from parent\n"
     ]
    }
   ],
   "source": [
    "print c1.myfun()"
   ]
  },
  {
   "cell_type": "code",
   "execution_count": 2,
   "metadata": {},
   "outputs": [],
   "source": [
    "class Account(object):\n",
    "    min_bal = 500\n",
    "    def __init__(self, initial_amount):\n",
    "        self.bal = initial_amount\n",
    "    def deposit(self, amount):\n",
    "        self.bal += amount\n",
    "        return self.bal\n",
    "class SavingAccount(Account):\n",
    "    pass\n",
    "class CurrentAccount(Account):\n",
    "    min_bal = 10000"
   ]
  },
  {
   "cell_type": "code",
   "execution_count": 3,
   "metadata": {},
   "outputs": [],
   "source": [
    "#create a class library with actions like a book and remove. While create a instance it will list of names\n",
    "#create a User with actions like borrow a book, submit a book.\n",
    "#Based on above implement the vary basic functionality of library"
   ]
  },
  {
   "cell_type": "code",
   "execution_count": null,
   "metadata": {},
   "outputs": [],
   "source": []
  },
  {
   "cell_type": "code",
   "execution_count": null,
   "metadata": {},
   "outputs": [],
   "source": []
  }
 ],
 "metadata": {
  "kernelspec": {
   "display_name": "Python 2",
   "language": "python",
   "name": "python2"
  },
  "language_info": {
   "codemirror_mode": {
    "name": "ipython",
    "version": 2
   },
   "file_extension": ".py",
   "mimetype": "text/x-python",
   "name": "python",
   "nbconvert_exporter": "python",
   "pygments_lexer": "ipython2",
   "version": "2.7.15"
  }
 },
 "nbformat": 4,
 "nbformat_minor": 2
}
